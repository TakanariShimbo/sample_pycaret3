{
 "cells": [
  {
   "cell_type": "code",
   "execution_count": null,
   "id": "6d3f33d0-9302-4a91-94ab-3da3242def28",
   "metadata": {},
   "outputs": [],
   "source": [
    "import pycaret\n",
    "pycaret.__version__"
   ]
  },
  {
   "cell_type": "markdown",
   "id": "66f0e238-06e4-4680-a989-93f119c13814",
   "metadata": {},
   "source": [
    "## Load Data"
   ]
  },
  {
   "cell_type": "code",
   "execution_count": null,
   "id": "29e6ac60-7872-4659-9690-e6d240365fa5",
   "metadata": {},
   "outputs": [],
   "source": [
    "from pycaret.datasets import get_data\n",
    "data = get_data('diabetes')"
   ]
  },
  {
   "cell_type": "markdown",
   "id": "2b24d883-e8b2-403b-aad8-0efd203ad809",
   "metadata": {},
   "source": [
    "## Main"
   ]
  },
  {
   "cell_type": "markdown",
   "id": "aedaca07-0159-4d08-9628-686a7a2be00c",
   "metadata": {},
   "source": [
    "Setup ➡️ Compare Models ➡️ Analyze Model ➡️ Prediction"
   ]
  },
  {
   "cell_type": "code",
   "execution_count": null,
   "id": "2708a429-0d00-4b54-8494-20e4e3b2e432",
   "metadata": {},
   "outputs": [],
   "source": [
    "from pycaret.classification import ClassificationExperiment\n",
    "exp = ClassificationExperiment()"
   ]
  },
  {
   "cell_type": "markdown",
   "id": "8b05786e-3486-492e-a41a-bed5d80899c9",
   "metadata": {},
   "source": [
    "### Setup"
   ]
  },
  {
   "cell_type": "code",
   "execution_count": null,
   "id": "1de9aa8e-e89a-40ef-a309-00b01be2a004",
   "metadata": {},
   "outputs": [],
   "source": [
    "exp.setup(data, target = 'Class variable', session_id = 123)"
   ]
  },
  {
   "cell_type": "markdown",
   "id": "858de024-f7e1-4249-ae33-06a1ced61cbe",
   "metadata": {},
   "source": [
    "### Compare Models"
   ]
  },
  {
   "cell_type": "code",
   "execution_count": null,
   "id": "3d367376-1211-4c89-a119-bbcec6a0137a",
   "metadata": {},
   "outputs": [],
   "source": [
    "exp.models()"
   ]
  },
  {
   "cell_type": "code",
   "execution_count": null,
   "id": "b4dba4d4-d60a-4299-99a2-a5f7104942ca",
   "metadata": {},
   "outputs": [],
   "source": [
    "best = exp.compare_models()"
   ]
  },
  {
   "cell_type": "code",
   "execution_count": null,
   "id": "99eb3776-dd05-4d00-aa84-787a135d0e5c",
   "metadata": {},
   "outputs": [],
   "source": [
    "best = exp.tune_model(best, search_library = 'optuna')"
   ]
  },
  {
   "cell_type": "markdown",
   "id": "8ed92862-c192-4879-896e-ff20aa0e45ab",
   "metadata": {},
   "source": [
    "### Analyze Model"
   ]
  },
  {
   "cell_type": "code",
   "execution_count": null,
   "id": "e9b9babc-cbef-4989-8575-bf8a3ae6925a",
   "metadata": {},
   "outputs": [],
   "source": [
    "# exp.evaluate_model(best)"
   ]
  },
  {
   "cell_type": "code",
   "execution_count": null,
   "id": "29f2dd69-b722-4b67-be39-f534717ddb01",
   "metadata": {},
   "outputs": [],
   "source": [
    "# help(exp.plot_model)"
   ]
  },
  {
   "cell_type": "markdown",
   "id": "dba25da1-f18b-449f-b710-e420af63c31e",
   "metadata": {},
   "source": [
    "#### Setting"
   ]
  },
  {
   "cell_type": "code",
   "execution_count": null,
   "id": "34559e57-65b7-41e6-98d3-0a8607403e14",
   "metadata": {},
   "outputs": [],
   "source": [
    "exp.plot_model(best, plot = 'pipeline')"
   ]
  },
  {
   "cell_type": "code",
   "execution_count": null,
   "id": "70c7eb07-cd38-4702-8da6-ec1984965607",
   "metadata": {},
   "outputs": [],
   "source": [
    "exp.plot_model(best, plot = 'parameter')"
   ]
  },
  {
   "cell_type": "markdown",
   "id": "c97456aa-7a6a-4b71-94e2-df841de9abf6",
   "metadata": {},
   "source": [
    "#### Learning"
   ]
  },
  {
   "cell_type": "code",
   "execution_count": null,
   "id": "27036748-816c-49fc-9005-562e2918f1be",
   "metadata": {},
   "outputs": [],
   "source": [
    "exp.plot_model(best, plot = 'learning')"
   ]
  },
  {
   "cell_type": "code",
   "execution_count": null,
   "id": "2b9b46fb-4416-4392-9830-5e75286b89b0",
   "metadata": {},
   "outputs": [],
   "source": [
    "exp.plot_model(best, plot = 'vc')"
   ]
  },
  {
   "cell_type": "code",
   "execution_count": null,
   "id": "0ce42c0f-6605-45e7-9849-37f7353e8a03",
   "metadata": {},
   "outputs": [],
   "source": [
    "exp.plot_model(best, plot = 'dimension')"
   ]
  },
  {
   "cell_type": "markdown",
   "id": "fac345ef-9cf7-4329-8744-c12f5f111d4a",
   "metadata": {},
   "source": [
    "#### Model Evaluation"
   ]
  },
  {
   "cell_type": "code",
   "execution_count": null,
   "id": "8d90178a-f71b-4611-bd13-ef7f38bc8625",
   "metadata": {},
   "outputs": [],
   "source": [
    "exp.plot_model(best, plot = 'error')"
   ]
  },
  {
   "cell_type": "code",
   "execution_count": null,
   "id": "a5478a23-a462-4349-8c9d-a05ec2ed19f4",
   "metadata": {},
   "outputs": [],
   "source": [
    "exp.plot_model(best, plot = 'confusion_matrix')"
   ]
  },
  {
   "cell_type": "code",
   "execution_count": null,
   "id": "402b11ef-026f-4e98-a028-8e4437453842",
   "metadata": {},
   "outputs": [],
   "source": [
    "exp.plot_model(best, plot = 'class_report')"
   ]
  },
  {
   "cell_type": "code",
   "execution_count": null,
   "id": "49a90405-b175-47f8-b191-03159bd8e45c",
   "metadata": {},
   "outputs": [],
   "source": [
    "exp.plot_model(best, plot = 'auc')"
   ]
  },
  {
   "cell_type": "code",
   "execution_count": null,
   "id": "1153af5e-b0cd-4f75-ac88-dbd153bfc1f4",
   "metadata": {},
   "outputs": [],
   "source": [
    "exp.plot_model(best, plot = 'pr')"
   ]
  },
  {
   "cell_type": "code",
   "execution_count": null,
   "id": "171d994d-c861-44d2-8ee3-a99777e2bb27",
   "metadata": {},
   "outputs": [],
   "source": [
    "exp.plot_model(best, plot = 'threshold')"
   ]
  },
  {
   "cell_type": "code",
   "execution_count": null,
   "id": "d51587e3-103d-4fe1-83f0-ab6ef33fc66d",
   "metadata": {},
   "outputs": [],
   "source": [
    "exp.plot_model(best, plot = 'ks')"
   ]
  },
  {
   "cell_type": "code",
   "execution_count": null,
   "id": "7b8e040f-41be-48ba-9b3b-f12ac287da16",
   "metadata": {},
   "outputs": [],
   "source": [
    "exp.plot_model(best, plot = 'boundary')"
   ]
  },
  {
   "cell_type": "code",
   "execution_count": null,
   "id": "82c8337b-1be3-4100-a959-782a6bad5ee5",
   "metadata": {},
   "outputs": [],
   "source": [
    "exp.plot_model(best, plot = 'manifold')"
   ]
  },
  {
   "cell_type": "code",
   "execution_count": null,
   "id": "42fe68cf-cff2-42d9-a589-d14337feb9d5",
   "metadata": {},
   "outputs": [],
   "source": [
    "exp.plot_model(best, plot = 'calibration')"
   ]
  },
  {
   "cell_type": "code",
   "execution_count": null,
   "id": "4da6bcf1-5fbd-4240-8995-2d190c79be19",
   "metadata": {},
   "outputs": [],
   "source": [
    "exp.plot_model(best, plot = 'lift')"
   ]
  },
  {
   "cell_type": "code",
   "execution_count": null,
   "id": "a0a8f381-bcf9-4970-9c5c-37476b77ea3f",
   "metadata": {},
   "outputs": [],
   "source": [
    "exp.plot_model(best, plot = 'gain')"
   ]
  },
  {
   "cell_type": "code",
   "execution_count": null,
   "id": "5d3af53e-2fa4-45a1-9475-6c94a874e2e5",
   "metadata": {},
   "outputs": [],
   "source": [
    "# exp.plot_model(best, plot = 'tree')"
   ]
  },
  {
   "cell_type": "markdown",
   "id": "c4175ab5-9f14-4765-a2c1-d320b5305cbc",
   "metadata": {},
   "source": [
    "#### Features Evaluation"
   ]
  },
  {
   "cell_type": "code",
   "execution_count": null,
   "id": "e8fd4851-e0e8-4132-be48-1c6f648c3f2f",
   "metadata": {},
   "outputs": [],
   "source": [
    "exp.plot_model(best, plot = 'feature')"
   ]
  },
  {
   "cell_type": "code",
   "execution_count": null,
   "id": "ae0d5ec4-250a-464b-b43c-9ec72dd64625",
   "metadata": {},
   "outputs": [],
   "source": [
    "exp.plot_model(best, plot = 'rfe')"
   ]
  },
  {
   "cell_type": "markdown",
   "id": "76c10ca6-7291-4ddf-b877-c107971bae30",
   "metadata": {},
   "source": [
    "## Prediction"
   ]
  },
  {
   "cell_type": "code",
   "execution_count": null,
   "id": "d2dbbb8f-01d2-407b-aee3-8ed81b60f13f",
   "metadata": {},
   "outputs": [],
   "source": [
    "holdout_pred = exp.predict_model(best)"
   ]
  },
  {
   "cell_type": "code",
   "execution_count": null,
   "id": "22339e69-e0ab-4c49-8f60-e6f61e4fadd7",
   "metadata": {},
   "outputs": [],
   "source": [
    "holdout_pred.head()"
   ]
  },
  {
   "cell_type": "code",
   "execution_count": null,
   "id": "88d45eba-ad69-4f2a-973f-b9fd0759eeb4",
   "metadata": {},
   "outputs": [],
   "source": [
    "new_data = data.copy()\n",
    "new_data.drop('Class variable', axis=1, inplace=True)\n",
    "new_data.head()"
   ]
  },
  {
   "cell_type": "code",
   "execution_count": null,
   "id": "796c304f-418b-46de-a53f-677d5ad9d356",
   "metadata": {},
   "outputs": [],
   "source": [
    "new_data_pred = exp.predict_model(best, data = new_data)\n",
    "new_data_pred.head()"
   ]
  },
  {
   "cell_type": "code",
   "execution_count": null,
   "id": "49b07389-4cf5-4fb4-b70a-0adcfba8c876",
   "metadata": {},
   "outputs": [],
   "source": []
  }
 ],
 "metadata": {
  "kernelspec": {
   "display_name": "Python 3 (ipykernel)",
   "language": "python",
   "name": "python3"
  },
  "language_info": {
   "codemirror_mode": {
    "name": "ipython",
    "version": 3
   },
   "file_extension": ".py",
   "mimetype": "text/x-python",
   "name": "python",
   "nbconvert_exporter": "python",
   "pygments_lexer": "ipython3",
   "version": "3.10.13"
  }
 },
 "nbformat": 4,
 "nbformat_minor": 5
}
