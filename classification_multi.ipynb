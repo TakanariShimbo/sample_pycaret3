{
 "cells": [
  {
   "cell_type": "code",
   "execution_count": 12,
   "id": "6d3f33d0-9302-4a91-94ab-3da3242def28",
   "metadata": {},
   "outputs": [
    {
     "data": {
      "text/plain": [
       "'3.2.0'"
      ]
     },
     "execution_count": 12,
     "metadata": {},
     "output_type": "execute_result"
    }
   ],
   "source": [
    "import pycaret\n",
    "pycaret.__version__"
   ]
  },
  {
   "cell_type": "markdown",
   "id": "66f0e238-06e4-4680-a989-93f119c13814",
   "metadata": {},
   "source": [
    "## Load Data"
   ]
  },
  {
   "cell_type": "code",
   "execution_count": 2,
   "id": "29e6ac60-7872-4659-9690-e6d240365fa5",
   "metadata": {},
   "outputs": [
    {
     "data": {
      "text/html": [
       "<div>\n",
       "<style scoped>\n",
       "    .dataframe tbody tr th:only-of-type {\n",
       "        vertical-align: middle;\n",
       "    }\n",
       "\n",
       "    .dataframe tbody tr th {\n",
       "        vertical-align: top;\n",
       "    }\n",
       "\n",
       "    .dataframe thead th {\n",
       "        text-align: right;\n",
       "    }\n",
       "</style>\n",
       "<table border=\"1\" class=\"dataframe\">\n",
       "  <thead>\n",
       "    <tr style=\"text-align: right;\">\n",
       "      <th></th>\n",
       "      <th>sepal_length</th>\n",
       "      <th>sepal_width</th>\n",
       "      <th>petal_length</th>\n",
       "      <th>petal_width</th>\n",
       "      <th>species</th>\n",
       "    </tr>\n",
       "  </thead>\n",
       "  <tbody>\n",
       "    <tr>\n",
       "      <th>0</th>\n",
       "      <td>5.1</td>\n",
       "      <td>3.5</td>\n",
       "      <td>1.4</td>\n",
       "      <td>0.2</td>\n",
       "      <td>Iris-setosa</td>\n",
       "    </tr>\n",
       "    <tr>\n",
       "      <th>1</th>\n",
       "      <td>4.9</td>\n",
       "      <td>3.0</td>\n",
       "      <td>1.4</td>\n",
       "      <td>0.2</td>\n",
       "      <td>Iris-setosa</td>\n",
       "    </tr>\n",
       "    <tr>\n",
       "      <th>2</th>\n",
       "      <td>4.7</td>\n",
       "      <td>3.2</td>\n",
       "      <td>1.3</td>\n",
       "      <td>0.2</td>\n",
       "      <td>Iris-setosa</td>\n",
       "    </tr>\n",
       "    <tr>\n",
       "      <th>3</th>\n",
       "      <td>4.6</td>\n",
       "      <td>3.1</td>\n",
       "      <td>1.5</td>\n",
       "      <td>0.2</td>\n",
       "      <td>Iris-setosa</td>\n",
       "    </tr>\n",
       "    <tr>\n",
       "      <th>4</th>\n",
       "      <td>5.0</td>\n",
       "      <td>3.6</td>\n",
       "      <td>1.4</td>\n",
       "      <td>0.2</td>\n",
       "      <td>Iris-setosa</td>\n",
       "    </tr>\n",
       "  </tbody>\n",
       "</table>\n",
       "</div>"
      ],
      "text/plain": [
       "   sepal_length  sepal_width  petal_length  petal_width      species\n",
       "0           5.1          3.5           1.4          0.2  Iris-setosa\n",
       "1           4.9          3.0           1.4          0.2  Iris-setosa\n",
       "2           4.7          3.2           1.3          0.2  Iris-setosa\n",
       "3           4.6          3.1           1.5          0.2  Iris-setosa\n",
       "4           5.0          3.6           1.4          0.2  Iris-setosa"
      ]
     },
     "metadata": {},
     "output_type": "display_data"
    }
   ],
   "source": [
    "from pycaret.datasets import get_data\n",
    "data = get_data('iris')"
   ]
  },
  {
   "cell_type": "markdown",
   "id": "2b24d883-e8b2-403b-aad8-0efd203ad809",
   "metadata": {},
   "source": [
    "## Main"
   ]
  },
  {
   "cell_type": "markdown",
   "id": "aedaca07-0159-4d08-9628-686a7a2be00c",
   "metadata": {},
   "source": [
    "Setup ➡️ Compare Models ➡️ Analyze Model ➡️ Prediction"
   ]
  },
  {
   "cell_type": "code",
   "execution_count": 4,
   "id": "2708a429-0d00-4b54-8494-20e4e3b2e432",
   "metadata": {},
   "outputs": [],
   "source": [
    "from pycaret.classification import *"
   ]
  },
  {
   "cell_type": "markdown",
   "id": "8b05786e-3486-492e-a41a-bed5d80899c9",
   "metadata": {},
   "source": [
    "### Setup"
   ]
  },
  {
   "cell_type": "code",
   "execution_count": 5,
   "id": "1de9aa8e-e89a-40ef-a309-00b01be2a004",
   "metadata": {},
   "outputs": [
    {
     "data": {
      "text/html": [
       "<style type=\"text/css\">\n",
       "#T_b069d_row9_col1 {\n",
       "  background-color: lightgreen;\n",
       "}\n",
       "</style>\n",
       "<table id=\"T_b069d\">\n",
       "  <thead>\n",
       "    <tr>\n",
       "      <th class=\"blank level0\" >&nbsp;</th>\n",
       "      <th id=\"T_b069d_level0_col0\" class=\"col_heading level0 col0\" >Description</th>\n",
       "      <th id=\"T_b069d_level0_col1\" class=\"col_heading level0 col1\" >Value</th>\n",
       "    </tr>\n",
       "  </thead>\n",
       "  <tbody>\n",
       "    <tr>\n",
       "      <th id=\"T_b069d_level0_row0\" class=\"row_heading level0 row0\" >0</th>\n",
       "      <td id=\"T_b069d_row0_col0\" class=\"data row0 col0\" >Session id</td>\n",
       "      <td id=\"T_b069d_row0_col1\" class=\"data row0 col1\" >123</td>\n",
       "    </tr>\n",
       "    <tr>\n",
       "      <th id=\"T_b069d_level0_row1\" class=\"row_heading level0 row1\" >1</th>\n",
       "      <td id=\"T_b069d_row1_col0\" class=\"data row1 col0\" >Target</td>\n",
       "      <td id=\"T_b069d_row1_col1\" class=\"data row1 col1\" >species</td>\n",
       "    </tr>\n",
       "    <tr>\n",
       "      <th id=\"T_b069d_level0_row2\" class=\"row_heading level0 row2\" >2</th>\n",
       "      <td id=\"T_b069d_row2_col0\" class=\"data row2 col0\" >Target type</td>\n",
       "      <td id=\"T_b069d_row2_col1\" class=\"data row2 col1\" >Multiclass</td>\n",
       "    </tr>\n",
       "    <tr>\n",
       "      <th id=\"T_b069d_level0_row3\" class=\"row_heading level0 row3\" >3</th>\n",
       "      <td id=\"T_b069d_row3_col0\" class=\"data row3 col0\" >Target mapping</td>\n",
       "      <td id=\"T_b069d_row3_col1\" class=\"data row3 col1\" >Iris-setosa: 0, Iris-versicolor: 1, Iris-virginica: 2</td>\n",
       "    </tr>\n",
       "    <tr>\n",
       "      <th id=\"T_b069d_level0_row4\" class=\"row_heading level0 row4\" >4</th>\n",
       "      <td id=\"T_b069d_row4_col0\" class=\"data row4 col0\" >Original data shape</td>\n",
       "      <td id=\"T_b069d_row4_col1\" class=\"data row4 col1\" >(150, 5)</td>\n",
       "    </tr>\n",
       "    <tr>\n",
       "      <th id=\"T_b069d_level0_row5\" class=\"row_heading level0 row5\" >5</th>\n",
       "      <td id=\"T_b069d_row5_col0\" class=\"data row5 col0\" >Transformed data shape</td>\n",
       "      <td id=\"T_b069d_row5_col1\" class=\"data row5 col1\" >(150, 5)</td>\n",
       "    </tr>\n",
       "    <tr>\n",
       "      <th id=\"T_b069d_level0_row6\" class=\"row_heading level0 row6\" >6</th>\n",
       "      <td id=\"T_b069d_row6_col0\" class=\"data row6 col0\" >Transformed train set shape</td>\n",
       "      <td id=\"T_b069d_row6_col1\" class=\"data row6 col1\" >(105, 5)</td>\n",
       "    </tr>\n",
       "    <tr>\n",
       "      <th id=\"T_b069d_level0_row7\" class=\"row_heading level0 row7\" >7</th>\n",
       "      <td id=\"T_b069d_row7_col0\" class=\"data row7 col0\" >Transformed test set shape</td>\n",
       "      <td id=\"T_b069d_row7_col1\" class=\"data row7 col1\" >(45, 5)</td>\n",
       "    </tr>\n",
       "    <tr>\n",
       "      <th id=\"T_b069d_level0_row8\" class=\"row_heading level0 row8\" >8</th>\n",
       "      <td id=\"T_b069d_row8_col0\" class=\"data row8 col0\" >Numeric features</td>\n",
       "      <td id=\"T_b069d_row8_col1\" class=\"data row8 col1\" >4</td>\n",
       "    </tr>\n",
       "    <tr>\n",
       "      <th id=\"T_b069d_level0_row9\" class=\"row_heading level0 row9\" >9</th>\n",
       "      <td id=\"T_b069d_row9_col0\" class=\"data row9 col0\" >Preprocess</td>\n",
       "      <td id=\"T_b069d_row9_col1\" class=\"data row9 col1\" >True</td>\n",
       "    </tr>\n",
       "    <tr>\n",
       "      <th id=\"T_b069d_level0_row10\" class=\"row_heading level0 row10\" >10</th>\n",
       "      <td id=\"T_b069d_row10_col0\" class=\"data row10 col0\" >Imputation type</td>\n",
       "      <td id=\"T_b069d_row10_col1\" class=\"data row10 col1\" >simple</td>\n",
       "    </tr>\n",
       "    <tr>\n",
       "      <th id=\"T_b069d_level0_row11\" class=\"row_heading level0 row11\" >11</th>\n",
       "      <td id=\"T_b069d_row11_col0\" class=\"data row11 col0\" >Numeric imputation</td>\n",
       "      <td id=\"T_b069d_row11_col1\" class=\"data row11 col1\" >mean</td>\n",
       "    </tr>\n",
       "    <tr>\n",
       "      <th id=\"T_b069d_level0_row12\" class=\"row_heading level0 row12\" >12</th>\n",
       "      <td id=\"T_b069d_row12_col0\" class=\"data row12 col0\" >Categorical imputation</td>\n",
       "      <td id=\"T_b069d_row12_col1\" class=\"data row12 col1\" >mode</td>\n",
       "    </tr>\n",
       "    <tr>\n",
       "      <th id=\"T_b069d_level0_row13\" class=\"row_heading level0 row13\" >13</th>\n",
       "      <td id=\"T_b069d_row13_col0\" class=\"data row13 col0\" >Fold Generator</td>\n",
       "      <td id=\"T_b069d_row13_col1\" class=\"data row13 col1\" >StratifiedKFold</td>\n",
       "    </tr>\n",
       "    <tr>\n",
       "      <th id=\"T_b069d_level0_row14\" class=\"row_heading level0 row14\" >14</th>\n",
       "      <td id=\"T_b069d_row14_col0\" class=\"data row14 col0\" >Fold Number</td>\n",
       "      <td id=\"T_b069d_row14_col1\" class=\"data row14 col1\" >10</td>\n",
       "    </tr>\n",
       "    <tr>\n",
       "      <th id=\"T_b069d_level0_row15\" class=\"row_heading level0 row15\" >15</th>\n",
       "      <td id=\"T_b069d_row15_col0\" class=\"data row15 col0\" >CPU Jobs</td>\n",
       "      <td id=\"T_b069d_row15_col1\" class=\"data row15 col1\" >-1</td>\n",
       "    </tr>\n",
       "    <tr>\n",
       "      <th id=\"T_b069d_level0_row16\" class=\"row_heading level0 row16\" >16</th>\n",
       "      <td id=\"T_b069d_row16_col0\" class=\"data row16 col0\" >Use GPU</td>\n",
       "      <td id=\"T_b069d_row16_col1\" class=\"data row16 col1\" >False</td>\n",
       "    </tr>\n",
       "    <tr>\n",
       "      <th id=\"T_b069d_level0_row17\" class=\"row_heading level0 row17\" >17</th>\n",
       "      <td id=\"T_b069d_row17_col0\" class=\"data row17 col0\" >Log Experiment</td>\n",
       "      <td id=\"T_b069d_row17_col1\" class=\"data row17 col1\" >False</td>\n",
       "    </tr>\n",
       "    <tr>\n",
       "      <th id=\"T_b069d_level0_row18\" class=\"row_heading level0 row18\" >18</th>\n",
       "      <td id=\"T_b069d_row18_col0\" class=\"data row18 col0\" >Experiment Name</td>\n",
       "      <td id=\"T_b069d_row18_col1\" class=\"data row18 col1\" >clf-default-name</td>\n",
       "    </tr>\n",
       "    <tr>\n",
       "      <th id=\"T_b069d_level0_row19\" class=\"row_heading level0 row19\" >19</th>\n",
       "      <td id=\"T_b069d_row19_col0\" class=\"data row19 col0\" >USI</td>\n",
       "      <td id=\"T_b069d_row19_col1\" class=\"data row19 col1\" >4b7c</td>\n",
       "    </tr>\n",
       "  </tbody>\n",
       "</table>\n"
      ],
      "text/plain": [
       "<pandas.io.formats.style.Styler at 0x2275f296500>"
      ]
     },
     "metadata": {},
     "output_type": "display_data"
    }
   ],
   "source": [
    "s = setup(data, target = 'species', session_id = 123)"
   ]
  },
  {
   "cell_type": "markdown",
   "id": "858de024-f7e1-4249-ae33-06a1ced61cbe",
   "metadata": {},
   "source": [
    "### Compare Models"
   ]
  },
  {
   "cell_type": "code",
   "execution_count": 6,
   "id": "b4dba4d4-d60a-4299-99a2-a5f7104942ca",
   "metadata": {},
   "outputs": [
    {
     "data": {
      "text/html": [],
      "text/plain": [
       "<IPython.core.display.HTML object>"
      ]
     },
     "metadata": {},
     "output_type": "display_data"
    },
    {
     "data": {
      "text/html": [
       "<style type=\"text/css\">\n",
       "#T_e0f4a th {\n",
       "  text-align: left;\n",
       "}\n",
       "#T_e0f4a_row0_col0, #T_e0f4a_row0_col2, #T_e0f4a_row1_col0, #T_e0f4a_row1_col2, #T_e0f4a_row2_col0, #T_e0f4a_row2_col2, #T_e0f4a_row3_col0, #T_e0f4a_row4_col0, #T_e0f4a_row4_col1, #T_e0f4a_row4_col2, #T_e0f4a_row4_col3, #T_e0f4a_row4_col4, #T_e0f4a_row4_col5, #T_e0f4a_row4_col6, #T_e0f4a_row4_col7, #T_e0f4a_row5_col0, #T_e0f4a_row5_col1, #T_e0f4a_row5_col2, #T_e0f4a_row5_col3, #T_e0f4a_row5_col4, #T_e0f4a_row5_col5, #T_e0f4a_row5_col6, #T_e0f4a_row5_col7, #T_e0f4a_row6_col0, #T_e0f4a_row6_col1, #T_e0f4a_row6_col2, #T_e0f4a_row6_col3, #T_e0f4a_row6_col4, #T_e0f4a_row6_col5, #T_e0f4a_row6_col6, #T_e0f4a_row6_col7, #T_e0f4a_row7_col0, #T_e0f4a_row7_col1, #T_e0f4a_row7_col2, #T_e0f4a_row7_col3, #T_e0f4a_row7_col4, #T_e0f4a_row7_col5, #T_e0f4a_row7_col6, #T_e0f4a_row7_col7, #T_e0f4a_row8_col0, #T_e0f4a_row8_col1, #T_e0f4a_row8_col2, #T_e0f4a_row8_col3, #T_e0f4a_row8_col4, #T_e0f4a_row8_col5, #T_e0f4a_row8_col6, #T_e0f4a_row8_col7, #T_e0f4a_row9_col0, #T_e0f4a_row9_col1, #T_e0f4a_row9_col2, #T_e0f4a_row9_col3, #T_e0f4a_row9_col4, #T_e0f4a_row9_col5, #T_e0f4a_row9_col6, #T_e0f4a_row9_col7, #T_e0f4a_row10_col0, #T_e0f4a_row10_col1, #T_e0f4a_row10_col2, #T_e0f4a_row10_col3, #T_e0f4a_row10_col4, #T_e0f4a_row10_col5, #T_e0f4a_row10_col6, #T_e0f4a_row10_col7, #T_e0f4a_row11_col0, #T_e0f4a_row11_col1, #T_e0f4a_row11_col2, #T_e0f4a_row11_col3, #T_e0f4a_row11_col4, #T_e0f4a_row11_col5, #T_e0f4a_row11_col6, #T_e0f4a_row11_col7, #T_e0f4a_row12_col0, #T_e0f4a_row12_col1, #T_e0f4a_row12_col2, #T_e0f4a_row12_col3, #T_e0f4a_row12_col4, #T_e0f4a_row12_col5, #T_e0f4a_row12_col6, #T_e0f4a_row12_col7, #T_e0f4a_row13_col0, #T_e0f4a_row13_col1, #T_e0f4a_row13_col2, #T_e0f4a_row13_col3, #T_e0f4a_row13_col4, #T_e0f4a_row13_col5, #T_e0f4a_row13_col6, #T_e0f4a_row13_col7, #T_e0f4a_row14_col0, #T_e0f4a_row14_col1, #T_e0f4a_row14_col2, #T_e0f4a_row14_col3, #T_e0f4a_row14_col4, #T_e0f4a_row14_col5, #T_e0f4a_row14_col6, #T_e0f4a_row14_col7, #T_e0f4a_row15_col0, #T_e0f4a_row15_col1, #T_e0f4a_row15_col2, #T_e0f4a_row15_col3, #T_e0f4a_row15_col4, #T_e0f4a_row15_col5, #T_e0f4a_row15_col6, #T_e0f4a_row15_col7 {\n",
       "  text-align: left;\n",
       "}\n",
       "#T_e0f4a_row0_col1, #T_e0f4a_row0_col3, #T_e0f4a_row0_col4, #T_e0f4a_row0_col5, #T_e0f4a_row0_col6, #T_e0f4a_row0_col7, #T_e0f4a_row1_col1, #T_e0f4a_row1_col3, #T_e0f4a_row1_col4, #T_e0f4a_row1_col5, #T_e0f4a_row1_col6, #T_e0f4a_row1_col7, #T_e0f4a_row2_col1, #T_e0f4a_row2_col3, #T_e0f4a_row2_col4, #T_e0f4a_row2_col5, #T_e0f4a_row2_col6, #T_e0f4a_row2_col7, #T_e0f4a_row3_col1, #T_e0f4a_row3_col2, #T_e0f4a_row3_col3, #T_e0f4a_row3_col4, #T_e0f4a_row3_col5, #T_e0f4a_row3_col6, #T_e0f4a_row3_col7 {\n",
       "  text-align: left;\n",
       "  background-color: yellow;\n",
       "}\n",
       "#T_e0f4a_row0_col8, #T_e0f4a_row1_col8, #T_e0f4a_row2_col8, #T_e0f4a_row4_col8, #T_e0f4a_row5_col8, #T_e0f4a_row6_col8, #T_e0f4a_row7_col8, #T_e0f4a_row8_col8, #T_e0f4a_row10_col8, #T_e0f4a_row11_col8, #T_e0f4a_row12_col8, #T_e0f4a_row14_col8 {\n",
       "  text-align: left;\n",
       "  background-color: lightgrey;\n",
       "}\n",
       "#T_e0f4a_row3_col8, #T_e0f4a_row9_col8, #T_e0f4a_row13_col8, #T_e0f4a_row15_col8 {\n",
       "  text-align: left;\n",
       "  background-color: yellow;\n",
       "  background-color: lightgrey;\n",
       "}\n",
       "</style>\n",
       "<table id=\"T_e0f4a\">\n",
       "  <thead>\n",
       "    <tr>\n",
       "      <th class=\"blank level0\" >&nbsp;</th>\n",
       "      <th id=\"T_e0f4a_level0_col0\" class=\"col_heading level0 col0\" >Model</th>\n",
       "      <th id=\"T_e0f4a_level0_col1\" class=\"col_heading level0 col1\" >Accuracy</th>\n",
       "      <th id=\"T_e0f4a_level0_col2\" class=\"col_heading level0 col2\" >AUC</th>\n",
       "      <th id=\"T_e0f4a_level0_col3\" class=\"col_heading level0 col3\" >Recall</th>\n",
       "      <th id=\"T_e0f4a_level0_col4\" class=\"col_heading level0 col4\" >Prec.</th>\n",
       "      <th id=\"T_e0f4a_level0_col5\" class=\"col_heading level0 col5\" >F1</th>\n",
       "      <th id=\"T_e0f4a_level0_col6\" class=\"col_heading level0 col6\" >Kappa</th>\n",
       "      <th id=\"T_e0f4a_level0_col7\" class=\"col_heading level0 col7\" >MCC</th>\n",
       "      <th id=\"T_e0f4a_level0_col8\" class=\"col_heading level0 col8\" >TT (Sec)</th>\n",
       "    </tr>\n",
       "  </thead>\n",
       "  <tbody>\n",
       "    <tr>\n",
       "      <th id=\"T_e0f4a_level0_row0\" class=\"row_heading level0 row0\" >lr</th>\n",
       "      <td id=\"T_e0f4a_row0_col0\" class=\"data row0 col0\" >Logistic Regression</td>\n",
       "      <td id=\"T_e0f4a_row0_col1\" class=\"data row0 col1\" >0.9718</td>\n",
       "      <td id=\"T_e0f4a_row0_col2\" class=\"data row0 col2\" >0.9971</td>\n",
       "      <td id=\"T_e0f4a_row0_col3\" class=\"data row0 col3\" >0.9718</td>\n",
       "      <td id=\"T_e0f4a_row0_col4\" class=\"data row0 col4\" >0.9780</td>\n",
       "      <td id=\"T_e0f4a_row0_col5\" class=\"data row0 col5\" >0.9712</td>\n",
       "      <td id=\"T_e0f4a_row0_col6\" class=\"data row0 col6\" >0.9573</td>\n",
       "      <td id=\"T_e0f4a_row0_col7\" class=\"data row0 col7\" >0.9609</td>\n",
       "      <td id=\"T_e0f4a_row0_col8\" class=\"data row0 col8\" >0.5170</td>\n",
       "    </tr>\n",
       "    <tr>\n",
       "      <th id=\"T_e0f4a_level0_row1\" class=\"row_heading level0 row1\" >knn</th>\n",
       "      <td id=\"T_e0f4a_row1_col0\" class=\"data row1 col0\" >K Neighbors Classifier</td>\n",
       "      <td id=\"T_e0f4a_row1_col1\" class=\"data row1 col1\" >0.9718</td>\n",
       "      <td id=\"T_e0f4a_row1_col2\" class=\"data row1 col2\" >0.9830</td>\n",
       "      <td id=\"T_e0f4a_row1_col3\" class=\"data row1 col3\" >0.9718</td>\n",
       "      <td id=\"T_e0f4a_row1_col4\" class=\"data row1 col4\" >0.9780</td>\n",
       "      <td id=\"T_e0f4a_row1_col5\" class=\"data row1 col5\" >0.9712</td>\n",
       "      <td id=\"T_e0f4a_row1_col6\" class=\"data row1 col6\" >0.9573</td>\n",
       "      <td id=\"T_e0f4a_row1_col7\" class=\"data row1 col7\" >0.9609</td>\n",
       "      <td id=\"T_e0f4a_row1_col8\" class=\"data row1 col8\" >0.4000</td>\n",
       "    </tr>\n",
       "    <tr>\n",
       "      <th id=\"T_e0f4a_level0_row2\" class=\"row_heading level0 row2\" >qda</th>\n",
       "      <td id=\"T_e0f4a_row2_col0\" class=\"data row2 col0\" >Quadratic Discriminant Analysis</td>\n",
       "      <td id=\"T_e0f4a_row2_col1\" class=\"data row2 col1\" >0.9718</td>\n",
       "      <td id=\"T_e0f4a_row2_col2\" class=\"data row2 col2\" >0.9974</td>\n",
       "      <td id=\"T_e0f4a_row2_col3\" class=\"data row2 col3\" >0.9718</td>\n",
       "      <td id=\"T_e0f4a_row2_col4\" class=\"data row2 col4\" >0.9780</td>\n",
       "      <td id=\"T_e0f4a_row2_col5\" class=\"data row2 col5\" >0.9712</td>\n",
       "      <td id=\"T_e0f4a_row2_col6\" class=\"data row2 col6\" >0.9573</td>\n",
       "      <td id=\"T_e0f4a_row2_col7\" class=\"data row2 col7\" >0.9609</td>\n",
       "      <td id=\"T_e0f4a_row2_col8\" class=\"data row2 col8\" >0.0050</td>\n",
       "    </tr>\n",
       "    <tr>\n",
       "      <th id=\"T_e0f4a_level0_row3\" class=\"row_heading level0 row3\" >lda</th>\n",
       "      <td id=\"T_e0f4a_row3_col0\" class=\"data row3 col0\" >Linear Discriminant Analysis</td>\n",
       "      <td id=\"T_e0f4a_row3_col1\" class=\"data row3 col1\" >0.9718</td>\n",
       "      <td id=\"T_e0f4a_row3_col2\" class=\"data row3 col2\" >1.0000</td>\n",
       "      <td id=\"T_e0f4a_row3_col3\" class=\"data row3 col3\" >0.9718</td>\n",
       "      <td id=\"T_e0f4a_row3_col4\" class=\"data row3 col4\" >0.9780</td>\n",
       "      <td id=\"T_e0f4a_row3_col5\" class=\"data row3 col5\" >0.9712</td>\n",
       "      <td id=\"T_e0f4a_row3_col6\" class=\"data row3 col6\" >0.9573</td>\n",
       "      <td id=\"T_e0f4a_row3_col7\" class=\"data row3 col7\" >0.9609</td>\n",
       "      <td id=\"T_e0f4a_row3_col8\" class=\"data row3 col8\" >0.0040</td>\n",
       "    </tr>\n",
       "    <tr>\n",
       "      <th id=\"T_e0f4a_level0_row4\" class=\"row_heading level0 row4\" >lightgbm</th>\n",
       "      <td id=\"T_e0f4a_row4_col0\" class=\"data row4 col0\" >Light Gradient Boosting Machine</td>\n",
       "      <td id=\"T_e0f4a_row4_col1\" class=\"data row4 col1\" >0.9536</td>\n",
       "      <td id=\"T_e0f4a_row4_col2\" class=\"data row4 col2\" >0.9935</td>\n",
       "      <td id=\"T_e0f4a_row4_col3\" class=\"data row4 col3\" >0.9536</td>\n",
       "      <td id=\"T_e0f4a_row4_col4\" class=\"data row4 col4\" >0.9634</td>\n",
       "      <td id=\"T_e0f4a_row4_col5\" class=\"data row4 col5\" >0.9528</td>\n",
       "      <td id=\"T_e0f4a_row4_col6\" class=\"data row4 col6\" >0.9298</td>\n",
       "      <td id=\"T_e0f4a_row4_col7\" class=\"data row4 col7\" >0.9356</td>\n",
       "      <td id=\"T_e0f4a_row4_col8\" class=\"data row4 col8\" >0.0870</td>\n",
       "    </tr>\n",
       "    <tr>\n",
       "      <th id=\"T_e0f4a_level0_row5\" class=\"row_heading level0 row5\" >nb</th>\n",
       "      <td id=\"T_e0f4a_row5_col0\" class=\"data row5 col0\" >Naive Bayes</td>\n",
       "      <td id=\"T_e0f4a_row5_col1\" class=\"data row5 col1\" >0.9445</td>\n",
       "      <td id=\"T_e0f4a_row5_col2\" class=\"data row5 col2\" >0.9868</td>\n",
       "      <td id=\"T_e0f4a_row5_col3\" class=\"data row5 col3\" >0.9445</td>\n",
       "      <td id=\"T_e0f4a_row5_col4\" class=\"data row5 col4\" >0.9525</td>\n",
       "      <td id=\"T_e0f4a_row5_col5\" class=\"data row5 col5\" >0.9438</td>\n",
       "      <td id=\"T_e0f4a_row5_col6\" class=\"data row5 col6\" >0.9161</td>\n",
       "      <td id=\"T_e0f4a_row5_col7\" class=\"data row5 col7\" >0.9207</td>\n",
       "      <td id=\"T_e0f4a_row5_col8\" class=\"data row5 col8\" >0.2870</td>\n",
       "    </tr>\n",
       "    <tr>\n",
       "      <th id=\"T_e0f4a_level0_row6\" class=\"row_heading level0 row6\" >et</th>\n",
       "      <td id=\"T_e0f4a_row6_col0\" class=\"data row6 col0\" >Extra Trees Classifier</td>\n",
       "      <td id=\"T_e0f4a_row6_col1\" class=\"data row6 col1\" >0.9445</td>\n",
       "      <td id=\"T_e0f4a_row6_col2\" class=\"data row6 col2\" >0.9935</td>\n",
       "      <td id=\"T_e0f4a_row6_col3\" class=\"data row6 col3\" >0.9445</td>\n",
       "      <td id=\"T_e0f4a_row6_col4\" class=\"data row6 col4\" >0.9586</td>\n",
       "      <td id=\"T_e0f4a_row6_col5\" class=\"data row6 col5\" >0.9426</td>\n",
       "      <td id=\"T_e0f4a_row6_col6\" class=\"data row6 col6\" >0.9161</td>\n",
       "      <td id=\"T_e0f4a_row6_col7\" class=\"data row6 col7\" >0.9246</td>\n",
       "      <td id=\"T_e0f4a_row6_col8\" class=\"data row6 col8\" >0.0210</td>\n",
       "    </tr>\n",
       "    <tr>\n",
       "      <th id=\"T_e0f4a_level0_row7\" class=\"row_heading level0 row7\" >catboost</th>\n",
       "      <td id=\"T_e0f4a_row7_col0\" class=\"data row7 col0\" >CatBoost Classifier</td>\n",
       "      <td id=\"T_e0f4a_row7_col1\" class=\"data row7 col1\" >0.9445</td>\n",
       "      <td id=\"T_e0f4a_row7_col2\" class=\"data row7 col2\" >0.9922</td>\n",
       "      <td id=\"T_e0f4a_row7_col3\" class=\"data row7 col3\" >0.9445</td>\n",
       "      <td id=\"T_e0f4a_row7_col4\" class=\"data row7 col4\" >0.9586</td>\n",
       "      <td id=\"T_e0f4a_row7_col5\" class=\"data row7 col5\" >0.9426</td>\n",
       "      <td id=\"T_e0f4a_row7_col6\" class=\"data row7 col6\" >0.9161</td>\n",
       "      <td id=\"T_e0f4a_row7_col7\" class=\"data row7 col7\" >0.9246</td>\n",
       "      <td id=\"T_e0f4a_row7_col8\" class=\"data row7 col8\" >0.1360</td>\n",
       "    </tr>\n",
       "    <tr>\n",
       "      <th id=\"T_e0f4a_level0_row8\" class=\"row_heading level0 row8\" >gbc</th>\n",
       "      <td id=\"T_e0f4a_row8_col0\" class=\"data row8 col0\" >Gradient Boosting Classifier</td>\n",
       "      <td id=\"T_e0f4a_row8_col1\" class=\"data row8 col1\" >0.9355</td>\n",
       "      <td id=\"T_e0f4a_row8_col2\" class=\"data row8 col2\" >0.9792</td>\n",
       "      <td id=\"T_e0f4a_row8_col3\" class=\"data row8 col3\" >0.9355</td>\n",
       "      <td id=\"T_e0f4a_row8_col4\" class=\"data row8 col4\" >0.9416</td>\n",
       "      <td id=\"T_e0f4a_row8_col5\" class=\"data row8 col5\" >0.9325</td>\n",
       "      <td id=\"T_e0f4a_row8_col6\" class=\"data row8 col6\" >0.9023</td>\n",
       "      <td id=\"T_e0f4a_row8_col7\" class=\"data row8 col7\" >0.9083</td>\n",
       "      <td id=\"T_e0f4a_row8_col8\" class=\"data row8 col8\" >0.0170</td>\n",
       "    </tr>\n",
       "    <tr>\n",
       "      <th id=\"T_e0f4a_level0_row9\" class=\"row_heading level0 row9\" >dt</th>\n",
       "      <td id=\"T_e0f4a_row9_col0\" class=\"data row9 col0\" >Decision Tree Classifier</td>\n",
       "      <td id=\"T_e0f4a_row9_col1\" class=\"data row9 col1\" >0.9264</td>\n",
       "      <td id=\"T_e0f4a_row9_col2\" class=\"data row9 col2\" >0.9429</td>\n",
       "      <td id=\"T_e0f4a_row9_col3\" class=\"data row9 col3\" >0.9264</td>\n",
       "      <td id=\"T_e0f4a_row9_col4\" class=\"data row9 col4\" >0.9502</td>\n",
       "      <td id=\"T_e0f4a_row9_col5\" class=\"data row9 col5\" >0.9201</td>\n",
       "      <td id=\"T_e0f4a_row9_col6\" class=\"data row9 col6\" >0.8886</td>\n",
       "      <td id=\"T_e0f4a_row9_col7\" class=\"data row9 col7\" >0.9040</td>\n",
       "      <td id=\"T_e0f4a_row9_col8\" class=\"data row9 col8\" >0.0040</td>\n",
       "    </tr>\n",
       "    <tr>\n",
       "      <th id=\"T_e0f4a_level0_row10\" class=\"row_heading level0 row10\" >rf</th>\n",
       "      <td id=\"T_e0f4a_row10_col0\" class=\"data row10 col0\" >Random Forest Classifier</td>\n",
       "      <td id=\"T_e0f4a_row10_col1\" class=\"data row10 col1\" >0.9264</td>\n",
       "      <td id=\"T_e0f4a_row10_col2\" class=\"data row10 col2\" >0.9909</td>\n",
       "      <td id=\"T_e0f4a_row10_col3\" class=\"data row10 col3\" >0.9264</td>\n",
       "      <td id=\"T_e0f4a_row10_col4\" class=\"data row10 col4\" >0.9343</td>\n",
       "      <td id=\"T_e0f4a_row10_col5\" class=\"data row10 col5\" >0.9232</td>\n",
       "      <td id=\"T_e0f4a_row10_col6\" class=\"data row10 col6\" >0.8886</td>\n",
       "      <td id=\"T_e0f4a_row10_col7\" class=\"data row10 col7\" >0.8956</td>\n",
       "      <td id=\"T_e0f4a_row10_col8\" class=\"data row10 col8\" >0.0220</td>\n",
       "    </tr>\n",
       "    <tr>\n",
       "      <th id=\"T_e0f4a_level0_row11\" class=\"row_heading level0 row11\" >xgboost</th>\n",
       "      <td id=\"T_e0f4a_row11_col0\" class=\"data row11 col0\" >Extreme Gradient Boosting</td>\n",
       "      <td id=\"T_e0f4a_row11_col1\" class=\"data row11 col1\" >0.9255</td>\n",
       "      <td id=\"T_e0f4a_row11_col2\" class=\"data row11 col2\" >0.9710</td>\n",
       "      <td id=\"T_e0f4a_row11_col3\" class=\"data row11 col3\" >0.9255</td>\n",
       "      <td id=\"T_e0f4a_row11_col4\" class=\"data row11 col4\" >0.9360</td>\n",
       "      <td id=\"T_e0f4a_row11_col5\" class=\"data row11 col5\" >0.9239</td>\n",
       "      <td id=\"T_e0f4a_row11_col6\" class=\"data row11 col6\" >0.8870</td>\n",
       "      <td id=\"T_e0f4a_row11_col7\" class=\"data row11 col7\" >0.8937</td>\n",
       "      <td id=\"T_e0f4a_row11_col8\" class=\"data row11 col8\" >0.0230</td>\n",
       "    </tr>\n",
       "    <tr>\n",
       "      <th id=\"T_e0f4a_level0_row12\" class=\"row_heading level0 row12\" >ada</th>\n",
       "      <td id=\"T_e0f4a_row12_col0\" class=\"data row12 col0\" >Ada Boost Classifier</td>\n",
       "      <td id=\"T_e0f4a_row12_col1\" class=\"data row12 col1\" >0.9155</td>\n",
       "      <td id=\"T_e0f4a_row12_col2\" class=\"data row12 col2\" >0.9947</td>\n",
       "      <td id=\"T_e0f4a_row12_col3\" class=\"data row12 col3\" >0.9155</td>\n",
       "      <td id=\"T_e0f4a_row12_col4\" class=\"data row12 col4\" >0.9401</td>\n",
       "      <td id=\"T_e0f4a_row12_col5\" class=\"data row12 col5\" >0.9097</td>\n",
       "      <td id=\"T_e0f4a_row12_col6\" class=\"data row12 col6\" >0.8720</td>\n",
       "      <td id=\"T_e0f4a_row12_col7\" class=\"data row12 col7\" >0.8873</td>\n",
       "      <td id=\"T_e0f4a_row12_col8\" class=\"data row12 col8\" >0.0090</td>\n",
       "    </tr>\n",
       "    <tr>\n",
       "      <th id=\"T_e0f4a_level0_row13\" class=\"row_heading level0 row13\" >ridge</th>\n",
       "      <td id=\"T_e0f4a_row13_col0\" class=\"data row13 col0\" >Ridge Classifier</td>\n",
       "      <td id=\"T_e0f4a_row13_col1\" class=\"data row13 col1\" >0.8227</td>\n",
       "      <td id=\"T_e0f4a_row13_col2\" class=\"data row13 col2\" >0.0000</td>\n",
       "      <td id=\"T_e0f4a_row13_col3\" class=\"data row13 col3\" >0.8227</td>\n",
       "      <td id=\"T_e0f4a_row13_col4\" class=\"data row13 col4\" >0.8437</td>\n",
       "      <td id=\"T_e0f4a_row13_col5\" class=\"data row13 col5\" >0.8186</td>\n",
       "      <td id=\"T_e0f4a_row13_col6\" class=\"data row13 col6\" >0.7320</td>\n",
       "      <td id=\"T_e0f4a_row13_col7\" class=\"data row13 col7\" >0.7454</td>\n",
       "      <td id=\"T_e0f4a_row13_col8\" class=\"data row13 col8\" >0.0040</td>\n",
       "    </tr>\n",
       "    <tr>\n",
       "      <th id=\"T_e0f4a_level0_row14\" class=\"row_heading level0 row14\" >svm</th>\n",
       "      <td id=\"T_e0f4a_row14_col0\" class=\"data row14 col0\" >SVM - Linear Kernel</td>\n",
       "      <td id=\"T_e0f4a_row14_col1\" class=\"data row14 col1\" >0.7618</td>\n",
       "      <td id=\"T_e0f4a_row14_col2\" class=\"data row14 col2\" >0.0000</td>\n",
       "      <td id=\"T_e0f4a_row14_col3\" class=\"data row14 col3\" >0.7618</td>\n",
       "      <td id=\"T_e0f4a_row14_col4\" class=\"data row14 col4\" >0.6655</td>\n",
       "      <td id=\"T_e0f4a_row14_col5\" class=\"data row14 col5\" >0.6888</td>\n",
       "      <td id=\"T_e0f4a_row14_col6\" class=\"data row14 col6\" >0.6333</td>\n",
       "      <td id=\"T_e0f4a_row14_col7\" class=\"data row14 col7\" >0.7048</td>\n",
       "      <td id=\"T_e0f4a_row14_col8\" class=\"data row14 col8\" >0.0070</td>\n",
       "    </tr>\n",
       "    <tr>\n",
       "      <th id=\"T_e0f4a_level0_row15\" class=\"row_heading level0 row15\" >dummy</th>\n",
       "      <td id=\"T_e0f4a_row15_col0\" class=\"data row15 col0\" >Dummy Classifier</td>\n",
       "      <td id=\"T_e0f4a_row15_col1\" class=\"data row15 col1\" >0.2864</td>\n",
       "      <td id=\"T_e0f4a_row15_col2\" class=\"data row15 col2\" >0.5000</td>\n",
       "      <td id=\"T_e0f4a_row15_col3\" class=\"data row15 col3\" >0.2864</td>\n",
       "      <td id=\"T_e0f4a_row15_col4\" class=\"data row15 col4\" >0.0822</td>\n",
       "      <td id=\"T_e0f4a_row15_col5\" class=\"data row15 col5\" >0.1277</td>\n",
       "      <td id=\"T_e0f4a_row15_col6\" class=\"data row15 col6\" >0.0000</td>\n",
       "      <td id=\"T_e0f4a_row15_col7\" class=\"data row15 col7\" >0.0000</td>\n",
       "      <td id=\"T_e0f4a_row15_col8\" class=\"data row15 col8\" >0.0040</td>\n",
       "    </tr>\n",
       "  </tbody>\n",
       "</table>\n"
      ],
      "text/plain": [
       "<pandas.io.formats.style.Styler at 0x22727aa7490>"
      ]
     },
     "metadata": {},
     "output_type": "display_data"
    },
    {
     "data": {
      "text/html": [],
      "text/plain": [
       "<IPython.core.display.HTML object>"
      ]
     },
     "metadata": {},
     "output_type": "display_data"
    }
   ],
   "source": [
    "best = compare_models()"
   ]
  },
  {
   "cell_type": "markdown",
   "id": "8ed92862-c192-4879-896e-ff20aa0e45ab",
   "metadata": {},
   "source": [
    "### Analyze Model"
   ]
  },
  {
   "cell_type": "code",
   "execution_count": 7,
   "id": "e0ffc137-aba3-492c-8536-e2b252d90cb1",
   "metadata": {},
   "outputs": [
    {
     "data": {
      "text/html": [],
      "text/plain": [
       "<IPython.core.display.HTML object>"
      ]
     },
     "metadata": {},
     "output_type": "display_data"
    },
    {
     "data": {
      "image/png": "[encoded data removed]",
      "text/plain": [
       "<Figure size 800x550 with 1 Axes>"
      ]
     },
     "metadata": {},
     "output_type": "display_data"
    }
   ],
   "source": [
    "plot_model(best, plot = 'confusion_matrix')"
   ]
  },
  {
   "cell_type": "code",
   "execution_count": 8,
   "id": "8072349e-1dcf-4f34-b975-5761bb792ce2",
   "metadata": {},
   "outputs": [
    {
     "data": {
      "text/html": [],
      "text/plain": [
       "<IPython.core.display.HTML object>"
      ]
     },
     "metadata": {},
     "output_type": "display_data"
    },
    {
     "data": {
      "image/png": "[encoded data removed]",
      "text/plain": [
       "<Figure size 800x550 with 1 Axes>"
      ]
     },
     "metadata": {},
     "output_type": "display_data"
    }
   ],
   "source": [
    "plot_model(best, plot = 'auc')"
   ]
  },
  {
   "cell_type": "code",
   "execution_count": 9,
   "id": "e8fd4851-e0e8-4132-be48-1c6f648c3f2f",
   "metadata": {},
   "outputs": [
    {
     "data": {
      "text/html": [],
      "text/plain": [
       "<IPython.core.display.HTML object>"
      ]
     },
     "metadata": {},
     "output_type": "display_data"
    },
    {
     "data": {
      "image/png": "[encoded data removed]",
      "text/plain": [
       "<Figure size 800x500 with 1 Axes>"
      ]
     },
     "metadata": {},
     "output_type": "display_data"
    }
   ],
   "source": [
    "plot_model(best, plot = 'feature')"
   ]
  },
  {
   "cell_type": "code",
   "execution_count": 10,
   "id": "ae0d5ec4-250a-464b-b43c-9ec72dd64625",
   "metadata": {},
   "outputs": [],
   "source": [
    "# help(plot_model)"
   ]
  },
  {
   "cell_type": "code",
   "execution_count": 11,
   "id": "c2db3778-d530-4e69-b28d-0e3dd7644fbf",
   "metadata": {},
   "outputs": [
    {
     "data": {
      "application/vnd.jupyter.widget-view+json": {
       "model_id": "319d4452ad5645749ac65bae6780c69b",
       "version_major": 2,
       "version_minor": 0
      },
      "text/plain": [
       "interactive(children=(ToggleButtons(description='Plot Type:', icons=('',), options=(('Pipeline Plot', 'pipelin…"
      ]
     },
     "metadata": {},
     "output_type": "display_data"
    }
   ],
   "source": [
    "evaluate_model(best)"
   ]
  },
  {
   "cell_type": "markdown",
   "id": "cba889e2-6faf-465e-a312-2dd556238539",
   "metadata": {},
   "source": [
    "## Prediction"
   ]
  },
  {
   "cell_type": "code",
   "execution_count": 13,
   "id": "f58709aa-7226-431a-a9de-8803a65fd2a9",
   "metadata": {},
   "outputs": [
    {
     "data": {
      "text/html": [
       "<style type=\"text/css\">\n",
       "</style>\n",
       "<table id=\"T_66250\">\n",
       "  <thead>\n",
       "    <tr>\n",
       "      <th class=\"blank level0\" >&nbsp;</th>\n",
       "      <th id=\"T_66250_level0_col0\" class=\"col_heading level0 col0\" >Model</th>\n",
       "      <th id=\"T_66250_level0_col1\" class=\"col_heading level0 col1\" >Accuracy</th>\n",
       "      <th id=\"T_66250_level0_col2\" class=\"col_heading level0 col2\" >AUC</th>\n",
       "      <th id=\"T_66250_level0_col3\" class=\"col_heading level0 col3\" >Recall</th>\n",
       "      <th id=\"T_66250_level0_col4\" class=\"col_heading level0 col4\" >Prec.</th>\n",
       "      <th id=\"T_66250_level0_col5\" class=\"col_heading level0 col5\" >F1</th>\n",
       "      <th id=\"T_66250_level0_col6\" class=\"col_heading level0 col6\" >Kappa</th>\n",
       "      <th id=\"T_66250_level0_col7\" class=\"col_heading level0 col7\" >MCC</th>\n",
       "    </tr>\n",
       "  </thead>\n",
       "  <tbody>\n",
       "    <tr>\n",
       "      <th id=\"T_66250_level0_row0\" class=\"row_heading level0 row0\" >0</th>\n",
       "      <td id=\"T_66250_row0_col0\" class=\"data row0 col0\" >Logistic Regression</td>\n",
       "      <td id=\"T_66250_row0_col1\" class=\"data row0 col1\" >0.9778</td>\n",
       "      <td id=\"T_66250_row0_col2\" class=\"data row0 col2\" >0.9985</td>\n",
       "      <td id=\"T_66250_row0_col3\" class=\"data row0 col3\" >0.9778</td>\n",
       "      <td id=\"T_66250_row0_col4\" class=\"data row0 col4\" >0.9792</td>\n",
       "      <td id=\"T_66250_row0_col5\" class=\"data row0 col5\" >0.9778</td>\n",
       "      <td id=\"T_66250_row0_col6\" class=\"data row0 col6\" >0.9667</td>\n",
       "      <td id=\"T_66250_row0_col7\" class=\"data row0 col7\" >0.9674</td>\n",
       "    </tr>\n",
       "  </tbody>\n",
       "</table>\n"
      ],
      "text/plain": [
       "<pandas.io.formats.style.Styler at 0x227616db010>"
      ]
     },
     "metadata": {},
     "output_type": "display_data"
    }
   ],
   "source": [
    "holdout_pred = predict_model(best)"
   ]
  },
  {
   "cell_type": "code",
   "execution_count": 14,
   "id": "d2eed81c-d1e1-4958-84e1-e2a9dab5f66c",
   "metadata": {},
   "outputs": [
    {
     "data": {
      "text/html": [
       "<div>\n",
       "<style scoped>\n",
       "    .dataframe tbody tr th:only-of-type {\n",
       "        vertical-align: middle;\n",
       "    }\n",
       "\n",
       "    .dataframe tbody tr th {\n",
       "        vertical-align: top;\n",
       "    }\n",
       "\n",
       "    .dataframe thead th {\n",
       "        text-align: right;\n",
       "    }\n",
       "</style>\n",
       "<table border=\"1\" class=\"dataframe\">\n",
       "  <thead>\n",
       "    <tr style=\"text-align: right;\">\n",
       "      <th></th>\n",
       "      <th>sepal_length</th>\n",
       "      <th>sepal_width</th>\n",
       "      <th>petal_length</th>\n",
       "      <th>petal_width</th>\n",
       "      <th>species</th>\n",
       "      <th>prediction_label</th>\n",
       "      <th>prediction_score</th>\n",
       "    </tr>\n",
       "  </thead>\n",
       "  <tbody>\n",
       "    <tr>\n",
       "      <th>72</th>\n",
       "      <td>6.3</td>\n",
       "      <td>2.5</td>\n",
       "      <td>4.9</td>\n",
       "      <td>1.5</td>\n",
       "      <td>Iris-versicolor</td>\n",
       "      <td>Iris-versicolor</td>\n",
       "      <td>0.5204</td>\n",
       "    </tr>\n",
       "    <tr>\n",
       "      <th>125</th>\n",
       "      <td>7.2</td>\n",
       "      <td>3.2</td>\n",
       "      <td>6.0</td>\n",
       "      <td>1.8</td>\n",
       "      <td>Iris-virginica</td>\n",
       "      <td>Iris-virginica</td>\n",
       "      <td>0.9503</td>\n",
       "    </tr>\n",
       "    <tr>\n",
       "      <th>80</th>\n",
       "      <td>5.5</td>\n",
       "      <td>2.4</td>\n",
       "      <td>3.8</td>\n",
       "      <td>1.1</td>\n",
       "      <td>Iris-versicolor</td>\n",
       "      <td>Iris-versicolor</td>\n",
       "      <td>0.9334</td>\n",
       "    </tr>\n",
       "    <tr>\n",
       "      <th>86</th>\n",
       "      <td>6.7</td>\n",
       "      <td>3.1</td>\n",
       "      <td>4.7</td>\n",
       "      <td>1.5</td>\n",
       "      <td>Iris-versicolor</td>\n",
       "      <td>Iris-versicolor</td>\n",
       "      <td>0.7321</td>\n",
       "    </tr>\n",
       "    <tr>\n",
       "      <th>117</th>\n",
       "      <td>7.7</td>\n",
       "      <td>3.8</td>\n",
       "      <td>6.7</td>\n",
       "      <td>2.2</td>\n",
       "      <td>Iris-virginica</td>\n",
       "      <td>Iris-virginica</td>\n",
       "      <td>0.9952</td>\n",
       "    </tr>\n",
       "  </tbody>\n",
       "</table>\n",
       "</div>"
      ],
      "text/plain": [
       "     sepal_length  sepal_width  petal_length  petal_width          species  \\\n",
       "72            6.3          2.5           4.9          1.5  Iris-versicolor   \n",
       "125           7.2          3.2           6.0          1.8   Iris-virginica   \n",
       "80            5.5          2.4           3.8          1.1  Iris-versicolor   \n",
       "86            6.7          3.1           4.7          1.5  Iris-versicolor   \n",
       "117           7.7          3.8           6.7          2.2   Iris-virginica   \n",
       "\n",
       "    prediction_label  prediction_score  \n",
       "72   Iris-versicolor            0.5204  \n",
       "125   Iris-virginica            0.9503  \n",
       "80   Iris-versicolor            0.9334  \n",
       "86   Iris-versicolor            0.7321  \n",
       "117   Iris-virginica            0.9952  "
      ]
     },
     "execution_count": 14,
     "metadata": {},
     "output_type": "execute_result"
    }
   ],
   "source": [
    "holdout_pred.head()"
   ]
  },
  {
   "cell_type": "code",
   "execution_count": 15,
   "id": "09e9ce98-6b05-4f6e-b323-0eb2ce0a374b",
   "metadata": {},
   "outputs": [
    {
     "data": {
      "text/html": [
       "<div>\n",
       "<style scoped>\n",
       "    .dataframe tbody tr th:only-of-type {\n",
       "        vertical-align: middle;\n",
       "    }\n",
       "\n",
       "    .dataframe tbody tr th {\n",
       "        vertical-align: top;\n",
       "    }\n",
       "\n",
       "    .dataframe thead th {\n",
       "        text-align: right;\n",
       "    }\n",
       "</style>\n",
       "<table border=\"1\" class=\"dataframe\">\n",
       "  <thead>\n",
       "    <tr style=\"text-align: right;\">\n",
       "      <th></th>\n",
       "      <th>sepal_length</th>\n",
       "      <th>sepal_width</th>\n",
       "      <th>petal_length</th>\n",
       "      <th>petal_width</th>\n",
       "    </tr>\n",
       "  </thead>\n",
       "  <tbody>\n",
       "    <tr>\n",
       "      <th>0</th>\n",
       "      <td>5.1</td>\n",
       "      <td>3.5</td>\n",
       "      <td>1.4</td>\n",
       "      <td>0.2</td>\n",
       "    </tr>\n",
       "    <tr>\n",
       "      <th>1</th>\n",
       "      <td>4.9</td>\n",
       "      <td>3.0</td>\n",
       "      <td>1.4</td>\n",
       "      <td>0.2</td>\n",
       "    </tr>\n",
       "    <tr>\n",
       "      <th>2</th>\n",
       "      <td>4.7</td>\n",
       "      <td>3.2</td>\n",
       "      <td>1.3</td>\n",
       "      <td>0.2</td>\n",
       "    </tr>\n",
       "    <tr>\n",
       "      <th>3</th>\n",
       "      <td>4.6</td>\n",
       "      <td>3.1</td>\n",
       "      <td>1.5</td>\n",
       "      <td>0.2</td>\n",
       "    </tr>\n",
       "    <tr>\n",
       "      <th>4</th>\n",
       "      <td>5.0</td>\n",
       "      <td>3.6</td>\n",
       "      <td>1.4</td>\n",
       "      <td>0.2</td>\n",
       "    </tr>\n",
       "  </tbody>\n",
       "</table>\n",
       "</div>"
      ],
      "text/plain": [
       "   sepal_length  sepal_width  petal_length  petal_width\n",
       "0           5.1          3.5           1.4          0.2\n",
       "1           4.9          3.0           1.4          0.2\n",
       "2           4.7          3.2           1.3          0.2\n",
       "3           4.6          3.1           1.5          0.2\n",
       "4           5.0          3.6           1.4          0.2"
      ]
     },
     "execution_count": 15,
     "metadata": {},
     "output_type": "execute_result"
    }
   ],
   "source": [
    "new_data = data.copy()\n",
    "new_data.drop('species', axis=1, inplace=True)\n",
    "new_data.head()"
   ]
  },
  {
   "cell_type": "code",
   "execution_count": 16,
   "id": "3f6f51c1-f1ab-4234-93ad-d211db03cde0",
   "metadata": {},
   "outputs": [
    {
     "data": {
      "text/html": [],
      "text/plain": [
       "<IPython.core.display.HTML object>"
      ]
     },
     "metadata": {},
     "output_type": "display_data"
    },
    {
     "data": {
      "text/html": [
       "<div>\n",
       "<style scoped>\n",
       "    .dataframe tbody tr th:only-of-type {\n",
       "        vertical-align: middle;\n",
       "    }\n",
       "\n",
       "    .dataframe tbody tr th {\n",
       "        vertical-align: top;\n",
       "    }\n",
       "\n",
       "    .dataframe thead th {\n",
       "        text-align: right;\n",
       "    }\n",
       "</style>\n",
       "<table border=\"1\" class=\"dataframe\">\n",
       "  <thead>\n",
       "    <tr style=\"text-align: right;\">\n",
       "      <th></th>\n",
       "      <th>sepal_length</th>\n",
       "      <th>sepal_width</th>\n",
       "      <th>petal_length</th>\n",
       "      <th>petal_width</th>\n",
       "      <th>prediction_label</th>\n",
       "      <th>prediction_score</th>\n",
       "    </tr>\n",
       "  </thead>\n",
       "  <tbody>\n",
       "    <tr>\n",
       "      <th>0</th>\n",
       "      <td>5.1</td>\n",
       "      <td>3.5</td>\n",
       "      <td>1.4</td>\n",
       "      <td>0.2</td>\n",
       "      <td>Iris-setosa</td>\n",
       "      <td>0.9775</td>\n",
       "    </tr>\n",
       "    <tr>\n",
       "      <th>1</th>\n",
       "      <td>4.9</td>\n",
       "      <td>3.0</td>\n",
       "      <td>1.4</td>\n",
       "      <td>0.2</td>\n",
       "      <td>Iris-setosa</td>\n",
       "      <td>0.9678</td>\n",
       "    </tr>\n",
       "    <tr>\n",
       "      <th>2</th>\n",
       "      <td>4.7</td>\n",
       "      <td>3.2</td>\n",
       "      <td>1.3</td>\n",
       "      <td>0.2</td>\n",
       "      <td>Iris-setosa</td>\n",
       "      <td>0.9820</td>\n",
       "    </tr>\n",
       "    <tr>\n",
       "      <th>3</th>\n",
       "      <td>4.6</td>\n",
       "      <td>3.1</td>\n",
       "      <td>1.5</td>\n",
       "      <td>0.2</td>\n",
       "      <td>Iris-setosa</td>\n",
       "      <td>0.9719</td>\n",
       "    </tr>\n",
       "    <tr>\n",
       "      <th>4</th>\n",
       "      <td>5.0</td>\n",
       "      <td>3.6</td>\n",
       "      <td>1.4</td>\n",
       "      <td>0.2</td>\n",
       "      <td>Iris-setosa</td>\n",
       "      <td>0.9813</td>\n",
       "    </tr>\n",
       "  </tbody>\n",
       "</table>\n",
       "</div>"
      ],
      "text/plain": [
       "   sepal_length  sepal_width  petal_length  petal_width prediction_label  \\\n",
       "0           5.1          3.5           1.4          0.2      Iris-setosa   \n",
       "1           4.9          3.0           1.4          0.2      Iris-setosa   \n",
       "2           4.7          3.2           1.3          0.2      Iris-setosa   \n",
       "3           4.6          3.1           1.5          0.2      Iris-setosa   \n",
       "4           5.0          3.6           1.4          0.2      Iris-setosa   \n",
       "\n",
       "   prediction_score  \n",
       "0            0.9775  \n",
       "1            0.9678  \n",
       "2            0.9820  \n",
       "3            0.9719  \n",
       "4            0.9813  "
      ]
     },
     "execution_count": 16,
     "metadata": {},
     "output_type": "execute_result"
    }
   ],
   "source": [
    "predictions = predict_model(best, data = new_data)\n",
    "predictions.head()"
   ]
  },
  {
   "cell_type": "code",
   "execution_count": null,
   "id": "08edf92c-da09-443e-8931-0ee6675fc3be",
   "metadata": {},
   "outputs": [],
   "source": []
  }
 ],
 "metadata": {
  "kernelspec": {
   "display_name": "Python 3 (ipykernel)",
   "language": "python",
   "name": "python3"
  },
  "language_info": {
   "codemirror_mode": {
    "name": "ipython",
    "version": 3
   },
   "file_extension": ".py",
   "mimetype": "text/x-python",
   "name": "python",
   "nbconvert_exporter": "python",
   "pygments_lexer": "ipython3",
   "version": "3.10.13"
  }
 },
 "nbformat": 4,
 "nbformat_minor": 5
}
