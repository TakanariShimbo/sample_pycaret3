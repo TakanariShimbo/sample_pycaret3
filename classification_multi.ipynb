{
 "cells": [
  {
   "cell_type": "code",
   "execution_count": null,
   "id": "6d3f33d0-9302-4a91-94ab-3da3242def28",
   "metadata": {},
   "outputs": [],
   "source": [
    "import pycaret\n",
    "pycaret.__version__"
   ]
  },
  {
   "cell_type": "markdown",
   "id": "66f0e238-06e4-4680-a989-93f119c13814",
   "metadata": {},
   "source": [
    "## Load Data"
   ]
  },
  {
   "cell_type": "code",
   "execution_count": null,
   "id": "29e6ac60-7872-4659-9690-e6d240365fa5",
   "metadata": {},
   "outputs": [],
   "source": [
    "from pycaret.datasets import get_data\n",
    "data = get_data('iris')"
   ]
  },
  {
   "cell_type": "markdown",
   "id": "2b24d883-e8b2-403b-aad8-0efd203ad809",
   "metadata": {},
   "source": [
    "## Main"
   ]
  },
  {
   "cell_type": "markdown",
   "id": "aedaca07-0159-4d08-9628-686a7a2be00c",
   "metadata": {},
   "source": [
    "Setup ➡️ Compare Models ➡️ Analyze Model ➡️ Prediction"
   ]
  },
  {
   "cell_type": "code",
   "execution_count": null,
   "id": "2708a429-0d00-4b54-8494-20e4e3b2e432",
   "metadata": {},
   "outputs": [],
   "source": [
    "from pycaret.classification import ClassificationExperiment\n",
    "exp = ClassificationExperiment()"
   ]
  },
  {
   "cell_type": "markdown",
   "id": "8b05786e-3486-492e-a41a-bed5d80899c9",
   "metadata": {},
   "source": [
    "### Setup"
   ]
  },
  {
   "cell_type": "code",
   "execution_count": null,
   "id": "1de9aa8e-e89a-40ef-a309-00b01be2a004",
   "metadata": {},
   "outputs": [],
   "source": [
    "exp.setup(data, target = 'species', session_id = 123)"
   ]
  },
  {
   "cell_type": "markdown",
   "id": "858de024-f7e1-4249-ae33-06a1ced61cbe",
   "metadata": {},
   "source": [
    "### Compare Models"
   ]
  },
  {
   "cell_type": "code",
   "execution_count": null,
   "id": "e6690c58-bf28-49f8-b53e-7c30ad0f4385",
   "metadata": {},
   "outputs": [],
   "source": [
    "exp.models()"
   ]
  },
  {
   "cell_type": "code",
   "execution_count": null,
   "id": "b4dba4d4-d60a-4299-99a2-a5f7104942ca",
   "metadata": {},
   "outputs": [],
   "source": [
    "best = exp.compare_models()"
   ]
  },
  {
   "cell_type": "code",
   "execution_count": null,
   "id": "aa8c0fc1-1fd1-4730-830f-81a48ab0ebf3",
   "metadata": {},
   "outputs": [],
   "source": [
    "best = exp.tune_model(best, search_library = 'optuna')"
   ]
  },
  {
   "cell_type": "markdown",
   "id": "8ed92862-c192-4879-896e-ff20aa0e45ab",
   "metadata": {},
   "source": [
    "### Analyze Model"
   ]
  },
  {
   "cell_type": "code",
   "execution_count": null,
   "id": "7a0c1d0d-9b93-44bc-a19e-6071d3c308ac",
   "metadata": {},
   "outputs": [],
   "source": [
    "# exp.evaluate_model(best)"
   ]
  },
  {
   "cell_type": "code",
   "execution_count": null,
   "id": "7d2d638e-9ba2-45cc-b515-328ed96cccc4",
   "metadata": {},
   "outputs": [],
   "source": [
    "# help(exp.plot_model)"
   ]
  },
  {
   "cell_type": "markdown",
   "id": "557557c9-e85c-4de8-a2db-63799440684a",
   "metadata": {},
   "source": [
    "#### Setting"
   ]
  },
  {
   "cell_type": "code",
   "execution_count": null,
   "id": "e0ffc137-aba3-492c-8536-e2b252d90cb1",
   "metadata": {},
   "outputs": [],
   "source": [
    "exp.plot_model(best, plot = 'pipeline')"
   ]
  },
  {
   "cell_type": "code",
   "execution_count": null,
   "id": "8072349e-1dcf-4f34-b975-5761bb792ce2",
   "metadata": {},
   "outputs": [],
   "source": [
    "exp.plot_model(best, plot = 'parameter')"
   ]
  },
  {
   "cell_type": "markdown",
   "id": "ce8af19f-11ee-4399-8300-2592a527dae8",
   "metadata": {},
   "source": [
    "#### Learning"
   ]
  },
  {
   "cell_type": "code",
   "execution_count": null,
   "id": "e8fd4851-e0e8-4132-be48-1c6f648c3f2f",
   "metadata": {},
   "outputs": [],
   "source": [
    "exp.plot_model(best, plot = 'learning')"
   ]
  },
  {
   "cell_type": "code",
   "execution_count": null,
   "id": "9a8a99d7-45fc-4cc7-9d81-aa5758ac1414",
   "metadata": {},
   "outputs": [],
   "source": [
    "exp.plot_model(best, plot = 'vc')"
   ]
  },
  {
   "cell_type": "code",
   "execution_count": null,
   "id": "c5a22745-b024-4cf6-85e4-980de6748aee",
   "metadata": {},
   "outputs": [],
   "source": [
    "exp.plot_model(best, plot = 'dimension')"
   ]
  },
  {
   "cell_type": "markdown",
   "id": "5c7da440-16d8-4be9-9559-3992cf0e4d93",
   "metadata": {},
   "source": [
    "#### Model Evaluation"
   ]
  },
  {
   "cell_type": "code",
   "execution_count": null,
   "id": "cd559ddd-70b2-4b1c-a0dc-0ff8ce7e4cdd",
   "metadata": {},
   "outputs": [],
   "source": [
    "exp.plot_model(best, plot = 'error')"
   ]
  },
  {
   "cell_type": "code",
   "execution_count": null,
   "id": "9b2faf66-be88-4335-b73d-595666da5cfe",
   "metadata": {},
   "outputs": [],
   "source": [
    "exp.plot_model(best, plot = 'confusion_matrix')"
   ]
  },
  {
   "cell_type": "code",
   "execution_count": null,
   "id": "6a7cd503-520d-4743-bbfe-467e7e86a417",
   "metadata": {},
   "outputs": [],
   "source": [
    "exp.plot_model(best, plot = 'class_report')"
   ]
  },
  {
   "cell_type": "code",
   "execution_count": null,
   "id": "37e7f1fe-eb63-4479-99f1-6056e6552dba",
   "metadata": {},
   "outputs": [],
   "source": [
    "exp.plot_model(best, plot = 'auc')"
   ]
  },
  {
   "cell_type": "code",
   "execution_count": null,
   "id": "e5b94345-7b30-48c0-b916-4223188b02c8",
   "metadata": {},
   "outputs": [],
   "source": [
    "exp.plot_model(best, plot = 'pr')"
   ]
  },
  {
   "cell_type": "code",
   "execution_count": null,
   "id": "8eca3be6-abca-4c13-a8fb-61137be2abea",
   "metadata": {},
   "outputs": [],
   "source": [
    "exp.plot_model(best, plot = 'boundary')"
   ]
  },
  {
   "cell_type": "code",
   "execution_count": null,
   "id": "4252cfc3-4d1c-46c3-b636-2700244953b4",
   "metadata": {},
   "outputs": [],
   "source": [
    "# exp.plot_model(best, plot = 'tree')"
   ]
  },
  {
   "cell_type": "markdown",
   "id": "6e5b4d1a-066a-4621-aeeb-033147107ae0",
   "metadata": {},
   "source": [
    "#### Features Evaluation"
   ]
  },
  {
   "cell_type": "code",
   "execution_count": null,
   "id": "b49ed679-9678-43b9-bbc4-09f7ab3f3e0c",
   "metadata": {},
   "outputs": [],
   "source": [
    "exp.plot_model(best, plot = 'feature')"
   ]
  },
  {
   "cell_type": "markdown",
   "id": "cba889e2-6faf-465e-a312-2dd556238539",
   "metadata": {},
   "source": [
    "## Prediction"
   ]
  },
  {
   "cell_type": "code",
   "execution_count": null,
   "id": "f58709aa-7226-431a-a9de-8803a65fd2a9",
   "metadata": {},
   "outputs": [],
   "source": [
    "holdout_pred = exp.predict_model(best)"
   ]
  },
  {
   "cell_type": "code",
   "execution_count": null,
   "id": "d2eed81c-d1e1-4958-84e1-e2a9dab5f66c",
   "metadata": {},
   "outputs": [],
   "source": [
    "holdout_pred.head()"
   ]
  },
  {
   "cell_type": "code",
   "execution_count": null,
   "id": "09e9ce98-6b05-4f6e-b323-0eb2ce0a374b",
   "metadata": {},
   "outputs": [],
   "source": [
    "new_data = data.copy()\n",
    "new_data.drop('species', axis=1, inplace=True)\n",
    "new_data.head()"
   ]
  },
  {
   "cell_type": "code",
   "execution_count": null,
   "id": "3f6f51c1-f1ab-4234-93ad-d211db03cde0",
   "metadata": {},
   "outputs": [],
   "source": [
    "new_data_pred = exp.predict_model(best, data = new_data)\n",
    "new_data_pred.head()"
   ]
  },
  {
   "cell_type": "code",
   "execution_count": null,
   "id": "08edf92c-da09-443e-8931-0ee6675fc3be",
   "metadata": {},
   "outputs": [],
   "source": []
  }
 ],
 "metadata": {
  "kernelspec": {
   "display_name": "Python 3 (ipykernel)",
   "language": "python",
   "name": "python3"
  },
  "language_info": {
   "codemirror_mode": {
    "name": "ipython",
    "version": 3
   },
   "file_extension": ".py",
   "mimetype": "text/x-python",
   "name": "python",
   "nbconvert_exporter": "python",
   "pygments_lexer": "ipython3",
   "version": "3.10.13"
  }
 },
 "nbformat": 4,
 "nbformat_minor": 5
}
