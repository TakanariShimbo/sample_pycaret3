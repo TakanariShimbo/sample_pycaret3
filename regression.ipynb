{
 "cells": [
  {
   "cell_type": "code",
   "execution_count": null,
   "id": "1cb3dd5d-84cf-4d2a-ac64-bde36830c781",
   "metadata": {},
   "outputs": [],
   "source": [
    "import pycaret\n",
    "pycaret.__version__"
   ]
  },
  {
   "cell_type": "markdown",
   "id": "710837bb-c9ed-47fd-93dc-e198fcd5b044",
   "metadata": {},
   "source": [
    "## Load Data"
   ]
  },
  {
   "cell_type": "code",
   "execution_count": null,
   "id": "de51408e-bcc9-4662-a187-72bfb00433ab",
   "metadata": {},
   "outputs": [],
   "source": [
    "from pycaret.datasets import get_data\n",
    "data = get_data('insurance')"
   ]
  },
  {
   "cell_type": "markdown",
   "id": "adc9c4c9-4b32-40b8-a114-f05bff9afdbe",
   "metadata": {},
   "source": [
    "## Main"
   ]
  },
  {
   "cell_type": "markdown",
   "id": "cc535405-d19c-4cd6-ba8a-9a8287b40ee0",
   "metadata": {},
   "source": [
    "Setup ➡️ Compare Models ➡️ Analyze Model ➡️ Prediction"
   ]
  },
  {
   "cell_type": "code",
   "execution_count": null,
   "id": "6f0ff9ca-80cc-4c41-bfa1-11f376564cbd",
   "metadata": {},
   "outputs": [],
   "source": [
    "from pycaret.regression import RegressionExperiment\n",
    "exp = RegressionExperiment()"
   ]
  },
  {
   "cell_type": "markdown",
   "id": "d70263ee-a279-4d2b-b802-7eca37d1618f",
   "metadata": {},
   "source": [
    "### Setup"
   ]
  },
  {
   "cell_type": "code",
   "execution_count": null,
   "id": "6003e4de-1596-4f50-afec-f05a0262e5d9",
   "metadata": {},
   "outputs": [],
   "source": [
    "exp.setup(data, target = 'charges', session_id = 123)"
   ]
  },
  {
   "cell_type": "markdown",
   "id": "854c72c1-5900-4faf-be1f-671a171681d8",
   "metadata": {},
   "source": [
    "### Compare Models"
   ]
  },
  {
   "cell_type": "code",
   "execution_count": null,
   "id": "d8145469-4fe7-4562-a9d3-63ca9ea099ba",
   "metadata": {},
   "outputs": [],
   "source": [
    "exp.models()"
   ]
  },
  {
   "cell_type": "code",
   "execution_count": null,
   "id": "0a73a746-663c-4edf-9029-664a9a3ec3a1",
   "metadata": {},
   "outputs": [],
   "source": [
    "best = exp.compare_models()"
   ]
  },
  {
   "cell_type": "code",
   "execution_count": null,
   "id": "4eb88f83-069b-4e29-9404-8e940bd716ee",
   "metadata": {},
   "outputs": [],
   "source": [
    "best = exp.tune_model(best, search_library = 'optuna')"
   ]
  },
  {
   "cell_type": "markdown",
   "id": "98d64f13-4041-452c-b7f5-10bd21bee16b",
   "metadata": {},
   "source": [
    "### Analyze Model"
   ]
  },
  {
   "cell_type": "code",
   "execution_count": null,
   "id": "c9318ec5-8ef6-41ba-a085-4b5fdea66bc4",
   "metadata": {},
   "outputs": [],
   "source": [
    "# exp.evaluate_model(best)"
   ]
  },
  {
   "cell_type": "code",
   "execution_count": null,
   "id": "8619c51a-7703-48fe-a78c-a5d5c80309b6",
   "metadata": {},
   "outputs": [],
   "source": [
    "# help(exp.plot_model)"
   ]
  },
  {
   "cell_type": "markdown",
   "id": "fa845698-c0f2-493b-8132-ef86322a98f9",
   "metadata": {},
   "source": [
    "#### Setting"
   ]
  },
  {
   "cell_type": "code",
   "execution_count": null,
   "id": "4f796ccb-9a3c-4d08-af78-a6f7958e37b8",
   "metadata": {},
   "outputs": [],
   "source": [
    "exp.plot_model(best, plot = 'pipeline')"
   ]
  },
  {
   "cell_type": "code",
   "execution_count": null,
   "id": "3d25d6fb-a805-41cb-bee1-0033fe798d54",
   "metadata": {},
   "outputs": [],
   "source": [
    "exp.plot_model(best, plot = 'parameter')"
   ]
  },
  {
   "cell_type": "markdown",
   "id": "bfb06365-7af7-44de-87c7-30be36c2d9b7",
   "metadata": {},
   "source": [
    "#### Learning"
   ]
  },
  {
   "cell_type": "code",
   "execution_count": null,
   "id": "089ec911-78fe-427d-bc56-e151be7a968e",
   "metadata": {},
   "outputs": [],
   "source": [
    "exp.plot_model(best, plot = 'learning')"
   ]
  },
  {
   "cell_type": "code",
   "execution_count": null,
   "id": "af5e7abd-d58e-4282-b621-2f65a78456a2",
   "metadata": {},
   "outputs": [],
   "source": [
    "exp.plot_model(best, plot = 'vc')"
   ]
  },
  {
   "cell_type": "markdown",
   "id": "714fa448-5f07-43bc-ad77-5636149f2e0f",
   "metadata": {},
   "source": [
    "#### Model Evaluation"
   ]
  },
  {
   "cell_type": "code",
   "execution_count": null,
   "id": "62902428-067d-491c-8b1e-56bd062c6aa2",
   "metadata": {},
   "outputs": [],
   "source": [
    "exp.plot_model(best, plot = 'residuals')"
   ]
  },
  {
   "cell_type": "code",
   "execution_count": null,
   "id": "a07edaf5-5c8e-4f71-b889-5a6c7ba89ce0",
   "metadata": {},
   "outputs": [],
   "source": [
    "exp.plot_model(best, plot = 'error')"
   ]
  },
  {
   "cell_type": "code",
   "execution_count": null,
   "id": "88a871e0-768b-4cad-b5bb-7e8ee25d816e",
   "metadata": {},
   "outputs": [],
   "source": [
    "exp.plot_model(best, plot = 'cooks')"
   ]
  },
  {
   "cell_type": "code",
   "execution_count": null,
   "id": "bf74afb4-d9dc-4848-af8c-3faf96a696d1",
   "metadata": {},
   "outputs": [],
   "source": [
    "exp.plot_model(best, plot = 'manifold')"
   ]
  },
  {
   "cell_type": "code",
   "execution_count": null,
   "id": "4e4829fa-a1f9-40dc-a85f-7810fc04c954",
   "metadata": {},
   "outputs": [],
   "source": [
    "# exp.plot_model(best, plot = 'tree')"
   ]
  },
  {
   "cell_type": "markdown",
   "id": "6566ddcd-eac4-4bfd-a033-818ec15c354a",
   "metadata": {},
   "source": [
    "#### Features Evaluation"
   ]
  },
  {
   "cell_type": "code",
   "execution_count": null,
   "id": "c509c54f-ac1e-4b24-b1b9-aec64dfc2a49",
   "metadata": {},
   "outputs": [],
   "source": [
    "exp.plot_model(best, plot = 'feature')"
   ]
  },
  {
   "cell_type": "code",
   "execution_count": null,
   "id": "c8c4abed-908a-4876-9aeb-84a8778cd30e",
   "metadata": {},
   "outputs": [],
   "source": [
    "exp.plot_model(best, plot = 'rfe')"
   ]
  },
  {
   "cell_type": "markdown",
   "id": "54c56ff3-6f73-42fd-9495-7f34e74fecc6",
   "metadata": {},
   "source": [
    "### Prediction"
   ]
  },
  {
   "cell_type": "code",
   "execution_count": null,
   "id": "5015589e-ac1e-4841-ad2d-aa71049edd1e",
   "metadata": {},
   "outputs": [],
   "source": [
    "holdout_pred = exp.predict_model(best)"
   ]
  },
  {
   "cell_type": "code",
   "execution_count": null,
   "id": "6d6bdae4-aa07-48fe-88d1-2b591244e0e7",
   "metadata": {},
   "outputs": [],
   "source": [
    "holdout_pred.head()"
   ]
  },
  {
   "cell_type": "code",
   "execution_count": null,
   "id": "41d3f1a5-e1e0-4233-a6ac-355c5b794492",
   "metadata": {},
   "outputs": [],
   "source": [
    "new_data = data.copy()\n",
    "new_data.drop('charges', axis=1, inplace=True)\n",
    "new_data.head()"
   ]
  },
  {
   "cell_type": "code",
   "execution_count": null,
   "id": "04b5b1ae-e803-4f7e-836b-aae591d9b057",
   "metadata": {},
   "outputs": [],
   "source": [
    "new_data_pred = exp.predict_model(best, data = new_data)\n",
    "new_data_pred.head()"
   ]
  },
  {
   "cell_type": "code",
   "execution_count": null,
   "id": "3e608867-ee3b-4cb8-a524-94ea1ff1e01d",
   "metadata": {},
   "outputs": [],
   "source": []
  }
 ],
 "metadata": {
  "kernelspec": {
   "display_name": "Python 3 (ipykernel)",
   "language": "python",
   "name": "python3"
  },
  "language_info": {
   "codemirror_mode": {
    "name": "ipython",
    "version": 3
   },
   "file_extension": ".py",
   "mimetype": "text/x-python",
   "name": "python",
   "nbconvert_exporter": "python",
   "pygments_lexer": "ipython3",
   "version": "3.10.13"
  }
 },
 "nbformat": 4,
 "nbformat_minor": 5
}
